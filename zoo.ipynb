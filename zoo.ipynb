{
 "cells": [
  {
   "cell_type": "code",
   "execution_count": 1,
   "id": "381f5076-f2be-49d5-a3c2-a793a950fcdc",
   "metadata": {},
   "outputs": [],
   "source": [
    "# zoo.py\n",
    "def hours():\n",
    "    print('Open 9-5 daily')"
   ]
  },
  {
   "cell_type": "code",
   "execution_count": null,
   "id": "9b0a2a9d-e643-4586-b489-68bcd783db7b",
   "metadata": {},
   "outputs": [],
   "source": [
    "PS C:\\Users\\brumb\\OneDrive\\College\\Software Development Using Python\\M04 - Assignments> python \n",
    "Python 3.12.3 (tags/v3.12.3:f6650f9, Apr  9 2024, 14:05:25) [MSC v.1938 64 bit (AMD64)] on win32\n",
    "Type \"help\", \"copyright\", \"credits\" or \"license\" for more information.\n",
    ">>> import zoo\n",
    ">>> zoo.hours()\n",
    "Open 9-5 daily\n",
    ">>> import zoo as menagerie\n",
    ">>> menagerie.hours()\n",
    "Open 9-5 daily\n",
    ">>> from zoo import hours\n",
    ">>> hours()\n",
    "Open 9-5 daily\n",
    ">>> from zoo import hours as info\n",
    ">>> info()\n",
    "Open 9-5 daily\n",
    ">>>"
   ]
  }
 ],
 "metadata": {
  "kernelspec": {
   "display_name": "Python 3 (ipykernel)",
   "language": "python",
   "name": "python3"
  },
  "language_info": {
   "codemirror_mode": {
    "name": "ipython",
    "version": 3
   },
   "file_extension": ".py",
   "mimetype": "text/x-python",
   "name": "python",
   "nbconvert_exporter": "python",
   "pygments_lexer": "ipython3",
   "version": "3.11.7"
  }
 },
 "nbformat": 4,
 "nbformat_minor": 5
}
